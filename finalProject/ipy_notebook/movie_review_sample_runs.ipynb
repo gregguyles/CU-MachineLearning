{
 "metadata": {
  "name": "movie_review_sample_runs"
 },
 "nbformat": 3,
 "nbformat_minor": 0,
 "worksheets": [
  {
   "cells": [
    {
     "cell_type": "code",
     "collapsed": false,
     "input": [
      "%run movie_review/gs_LinSVM.py -sub"
     ],
     "language": "python",
     "metadata": {},
     "outputs": [
      {
       "output_type": "stream",
       "stream": "stdout",
       "text": [
        "**********************************************************************\n",
        "*****                         Begin  Run                         *****\n",
        "**********************************************************************\n",
        "n_samples: 402\n",
        "\n"
       ]
      },
      {
       "output_type": "stream",
       "stream": "stdout",
       "text": [
        "Grid Search Parameters:\n",
        "{'vect__ngram_range': [(1, 2), (2, 2)], 'vect__max_df': (0.1, 0.3, 0.5, 0.7)}\n",
        "\n",
        "Best Parameters:\n",
        "vect__max_df: 0.3\n",
        "vect__ngram_range: (1, 2)\n",
        "score: 0.916944\n",
        "\n",
        "Test Metrics Classification Report"
       ]
      },
      {
       "output_type": "stream",
       "stream": "stdout",
       "text": [
        "\n",
        "             precision    recall  f1-score   support\n",
        "\n",
        "        neg       0.81      0.90      0.85        49\n",
        "        pos       0.89      0.81      0.85        52\n",
        "\n",
        "avg / total       0.86      0.85      0.85       101\n",
        "\n",
        "Confusion Matrix:\n",
        "[[44  5]\n",
        " [10 42]]\n"
       ]
      },
      {
       "output_type": "display_data",
       "png": "[encoded data removed]"
      },
      {
       "output_type": "stream",
       "stream": "stdout",
       "text": [
        "######################################################################\n",
        "#####                         End    Run                         #####\n",
        "######################################################################\n",
        "\n",
        "\n"
       ]
      }
     ],
     "prompt_number": 12
    },
    {
     "cell_type": "code",
     "collapsed": false,
     "input": [
      "%run movie_review/gs_SVM.py -sub"
     ],
     "language": "python",
     "metadata": {},
     "outputs": [
      {
       "output_type": "stream",
       "stream": "stdout",
       "text": [
        "**********************************************************************\n",
        "*****                         Begin  Run                         *****\n",
        "**********************************************************************\n",
        "n_samples: 400\n"
       ]
      },
      {
       "output_type": "stream",
       "stream": "stdout",
       "text": [
        "\n"
       ]
      },
      {
       "output_type": "stream",
       "stream": "stdout",
       "text": [
        "Grid Search Parameters:\n",
        "{'vect__ngram_range': [(1, 1), (1, 2), (1, 3)], 'clf__gamma': (1, 0.1, 0.01, 0.001), 'clf__C': (1, 100, 1000, 10000), 'vect__max_df': (0.7, 0.8, 0.9, 0.99)}\n",
        "\n",
        "Best Parameters:\n",
        "clf__C: 1000\n",
        "clf__gamma: 0.01\n",
        "vect__max_df: 0.99\n",
        "vect__ngram_range: (1, 1)\n",
        "score: 0.870000\n",
        "\n",
        "Test Metrics Classification Report"
       ]
      },
      {
       "output_type": "stream",
       "stream": "stdout",
       "text": [
        "\n",
        "             precision    recall  f1-score   support\n",
        "\n",
        "        neg       0.96      0.87      0.91        55\n",
        "        pos       0.86      0.96      0.91        45\n",
        "\n",
        "avg / total       0.92      0.91      0.91       100\n",
        "\n",
        "Confusion Matrix:\n",
        "[[48  7]\n",
        " [ 2 43]]\n"
       ]
      },
      {
       "output_type": "display_data",
       "png": "[encoded data removed]"
      },
      {
       "output_type": "stream",
       "stream": "stdout",
       "text": [
        "######################################################################\n",
        "#####                         End    Run                         #####\n",
        "######################################################################\n",
        "\n",
        "\n"
       ]
      }
     ],
     "prompt_number": 19
    },
    {
     "cell_type": "code",
     "collapsed": false,
     "input": [
      "%run movie_review/gs_LinSVM.py -sub"
     ],
     "language": "python",
     "metadata": {},
     "outputs": [
      {
       "output_type": "stream",
       "stream": "stdout",
       "text": [
        "**********************************************************************\n",
        "*****                         Begin  Run                         *****\n",
        "**********************************************************************\n",
        "n_samples: 402\n",
        "\n"
       ]
      },
      {
       "output_type": "stream",
       "stream": "stdout",
       "text": [
        "Grid Search Parameters:\n",
        "{'vect__ngram_range': [(1, 2), (2, 2)], 'vect__max_df': (0.1, 0.3, 0.5, 0.7)}\n",
        "\n",
        "Best Parameters:\n",
        "vect__max_df: 0.3\n",
        "vect__ngram_range: (1, 2)\n",
        "score: 0.906977\n",
        "\n",
        "Test Metrics Classification Report"
       ]
      },
      {
       "output_type": "stream",
       "stream": "stdout",
       "text": [
        "\n",
        "             precision    recall  f1-score   support\n",
        "\n",
        "        neg       0.83      0.94      0.88        53\n",
        "        pos       0.93      0.79      0.85        48\n",
        "\n",
        "avg / total       0.88      0.87      0.87       101\n",
        "\n",
        "Confusion Matrix:\n",
        "[[50  3]\n",
        " [10 38]]\n"
       ]
      },
      {
       "output_type": "display_data",
       "png": "[encoded data removed]"
      },
      {
       "output_type": "stream",
       "stream": "stdout",
       "text": [
        "######################################################################\n",
        "#####                         End    Run                         #####\n",
        "######################################################################\n",
        "\n",
        "\n"
       ]
      }
     ],
     "prompt_number": 6
    },
    {
     "cell_type": "code",
     "collapsed": false,
     "input": [
      "%run movie_review/gs_ExTree.py -sub"
     ],
     "language": "python",
     "metadata": {},
     "outputs": [
      {
       "output_type": "stream",
       "stream": "stdout",
       "text": [
        "**********************************************************************\n",
        "*****                         Begin  Run                         *****\n",
        "**********************************************************************\n",
        "n_samples: 402\n",
        "\n"
       ]
      },
      {
       "output_type": "stream",
       "stream": "stdout",
       "text": [
        "Grid Search Parameters:\n",
        "{'min_samples_split': (2, 4, 8, 16), 'max_depth': (None, 512, 1024, 2048), 'min_samples_leaf': (8, 16, 32, 64)}\n",
        "\n",
        "Best Parameters:\n",
        "max_depth: 512\n",
        "min_samples_leaf: 16\n",
        "min_samples_split: 4\n",
        "score: 0.627907\n",
        "\n",
        "Test Metrics Classification Report"
       ]
      },
      {
       "output_type": "stream",
       "stream": "stdout",
       "text": [
        "\n",
        "             precision    recall  f1-score   support\n",
        "\n",
        "        neg       0.75      0.18      0.29        50\n",
        "        pos       0.54      0.94      0.69        51\n",
        "\n",
        "avg / total       0.64      0.56      0.49       101\n",
        "\n",
        "Confusion Matrix:\n",
        "[[ 9 41]\n",
        " [ 3 48]]\n"
       ]
      },
      {
       "output_type": "display_data",
       "png": "[encoded data removed]"
      },
      {
       "output_type": "stream",
       "stream": "stdout",
       "text": [
        "######################################################################\n",
        "#####                         End    Run                         #####\n",
        "######################################################################\n",
        "\n",
        "\n"
       ]
      }
     ],
     "prompt_number": 10
    },
    {
     "cell_type": "code",
     "collapsed": false,
     "input": [
      "%run movie_review/gs_ExTree.py 200 -print"
     ],
     "language": "python",
     "metadata": {},
     "outputs": [
      {
       "output_type": "stream",
       "stream": "stdout",
       "text": [
        "**********************************************************************\n",
        "*****                         Begin  Run                         *****\n",
        "**********************************************************************\n",
        "n_samples: 400\n"
       ]
      },
      {
       "output_type": "stream",
       "stream": "stdout",
       "text": [
        "\n",
        "(300, 49253)"
       ]
      },
      {
       "output_type": "stream",
       "stream": "stdout",
       "text": [
        "\n"
       ]
      }
     ],
     "prompt_number": 29
    },
    {
     "cell_type": "code",
     "collapsed": false,
     "input": [
      "%run movie_review/run_extree.py -full"
     ],
     "language": "python",
     "metadata": {},
     "outputs": [
      {
       "output_type": "stream",
       "stream": "stdout",
       "text": [
        "Number of Samples: 25000\n",
        "\n",
        "<bound method csr_matrix.get_shape of <18750x1048576 sparse matrix of type '<type 'numpy.float64'>'\n",
        "\twith 1681859 stored elements in Compressed Sparse Row format>>"
       ]
      },
      {
       "output_type": "stream",
       "stream": "stdout",
       "text": [
        "\n",
        "<bound method csr_matrix.get_shape of <18750x10000 sparse matrix of type '<type 'numpy.float64'>'\n",
        "\twith 1039658 stored elements in Compressed Sparse Row format>>"
       ]
      },
      {
       "output_type": "stream",
       "stream": "stdout",
       "text": [
        "\n",
        "0.82464"
       ]
      },
      {
       "output_type": "stream",
       "stream": "stdout",
       "text": [
        "\n"
       ]
      }
     ],
     "prompt_number": 71
    },
    {
     "cell_type": "code",
     "collapsed": false,
     "input": [
      "%run movie_review/gs_NBayes.py -sub -print_plot"
     ],
     "language": "python",
     "metadata": {},
     "outputs": [
      {
       "output_type": "stream",
       "stream": "stdout",
       "text": [
        "**********************************************************************\n",
        "*****                         Begin  Run                         *****\n",
        "**********************************************************************\n",
        "Number of Samples: 402\n",
        "\n"
       ]
      },
      {
       "output_type": "stream",
       "stream": "stdout",
       "text": [
        "Grid Search Parameters:\n",
        "{'vect__ngram_range': [(1, 1), (1, 2), (1, 3)], 'vect__max_df': (0.1, 0.3, 0.5, 0.7)}\n",
        "\n",
        "Best Parameters:\n",
        "vect__max_df: 0.1\n",
        "vect__ngram_range: (1, 1)\n",
        "score: 0.873754\n",
        "\n",
        "Test Metrics Classification Report\n",
        "             precision    recall  f1-score   support\n",
        "\n",
        "        neg       0.87      0.96      0.91        50\n",
        "        pos       0.96      0.86      0.91        51\n",
        "\n",
        "avg / total       0.92      0.91      0.91       101\n",
        "\n",
        "Confusion Matrix:\n",
        "[[48  2]\n",
        " [ 7 44]]\n"
       ]
      },
      {
       "output_type": "display_data",
       "png": "[encoded data removed]"
      },
      {
       "output_type": "stream",
       "stream": "stdout",
       "text": [
        "######################################################################\n",
        "#####                         End    Run                         #####\n",
        "######################################################################\n",
        "\n",
        "\n"
       ]
      }
     ],
     "prompt_number": 75
    },
    {
     "cell_type": "code",
     "collapsed": false,
     "input": [],
     "language": "python",
     "metadata": {},
     "outputs": []
    }
   ],
   "metadata": {}
  }
 ]
}