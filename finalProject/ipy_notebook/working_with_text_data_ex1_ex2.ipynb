{
 "metadata": {
  "name": "working_with_text_data_ex1_ex2"
 },
 "nbformat": 3,
 "nbformat_minor": 0,
 "worksheets": [
  {
   "cells": [
    {
     "cell_type": "code",
     "collapsed": false,
     "input": [
      "2+2"
     ],
     "language": "python",
     "metadata": {},
     "outputs": [
      {
       "output_type": "pyout",
       "prompt_number": 1,
       "text": [
        "4"
       ]
      }
     ],
     "prompt_number": 1
    },
    {
     "cell_type": "code",
     "collapsed": false,
     "input": [
      "%run text_analytics_tutorial/skeletons/exercise_01_language_train_model.py text_analytics_tutorial/data/languages/paragraphs/"
     ],
     "language": "python",
     "metadata": {},
     "outputs": [
      {
       "output_type": "stream",
       "stream": "stdout",
       "text": [
        "             precision    recall  f1-score   support\n",
        "\n",
        "         ar       1.00      1.00      1.00        15\n",
        "         de       1.00      0.91      0.95        58\n",
        "         en       1.00      1.00      1.00        48\n",
        "         es       1.00      0.87      0.93        63\n",
        "         fr       1.00      0.98      0.99        46\n",
        "         it       0.96      0.98      0.97        45\n",
        "         ja       1.00      0.97      0.99        35\n",
        "         nl       0.94      1.00      0.97        17\n",
        "         pl       0.94      1.00      0.97        17\n",
        "         pt       0.94      0.98      0.96        47\n",
        "         ru       0.72      1.00      0.84        26\n",
        "\n",
        "avg / total       0.97      0.96      0.96       417\n",
        "\n",
        "[[15  0  0  0  0  0  0  0  0  0  0]\n",
        " [ 0 53  0  0  0  1  0  0  1  0  3]\n",
        " [ 0  0 48  0  0  0  0  0  0  0  0]\n",
        " [ 0  0  0 55  0  1  0  0  0  3  4]\n",
        " [ 0  0  0  0 45  0  0  0  0  0  1]\n",
        " [ 0  0  0  0  0 44  0  0  0  0  1]\n",
        " [ 0  0  0  0  0  0 34  1  0  0  0]\n",
        " [ 0  0  0  0  0  0  0 17  0  0  0]\n",
        " [ 0  0  0  0  0  0  0  0 17  0  0]\n",
        " [ 0  0  0  0  0  0  0  0  0 46  1]\n",
        " [ 0  0  0  0  0  0  0  0  0  0 26]]\n"
       ]
      },
      {
       "output_type": "display_data",
       "png": "[encoded data removed]"
      },
      {
       "output_type": "stream",
       "stream": "stdout",
       "text": [
        "The language of \"This is a language detection test.\" is \"en\"\n",
        "The language of \"Ceci est un test de d\u00e9tection de la langue.\" is \"fr\"\n",
        "The language of \"Dies ist ein Test, um die Sprache zu erkennen.\" is \"de\"\n"
       ]
      }
     ],
     "prompt_number": 8
    },
    {
     "cell_type": "code",
     "collapsed": false,
     "input": [
      "%run text_analytics_tutorial/skeletons/exercise_02_sentiment.py text_analytics_tutorial/data/movie_reviews/txt_sentoken/"
     ],
     "language": "python",
     "metadata": {},
     "outputs": [
      {
       "output_type": "stream",
       "stream": "stdout",
       "text": [
        "n_samples: 2000\n"
       ]
      },
      {
       "output_type": "stream",
       "stream": "stdout",
       "text": [
        "[mean: 0.70067, std: 0.02059, params: {'vect__ngram_range': (1, 1)}, mean: 0.69133, std: 0.05066, params: {'vect__ngram_range': (1, 2)}]\n",
        "             precision    recall  f1-score   support\n",
        "\n",
        "        neg       0.77      0.61      0.68       233\n",
        "        pos       0.71      0.84      0.77       267\n",
        "\n",
        "avg / total       0.74      0.73      0.73       500\n"
       ]
      },
      {
       "output_type": "stream",
       "stream": "stdout",
       "text": [
        "\n",
        "[[143  90]\n",
        " [ 43 224]]\n"
       ]
      },
      {
       "output_type": "display_data",
       "png": "[encoded data removed]"
      }
     ],
     "prompt_number": 5
    },
    {
     "cell_type": "code",
     "collapsed": false,
     "input": [],
     "language": "python",
     "metadata": {},
     "outputs": []
    }
   ],
   "metadata": {}
  }
 ]
}